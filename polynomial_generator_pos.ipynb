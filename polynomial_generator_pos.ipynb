{
 "cells": [
  {
   "cell_type": "code",
   "execution_count": null,
   "id": "dd13c440-adde-4e17-a82e-9b7b58114aec",
   "metadata": {},
   "outputs": [],
   "source": [
    "import numpy as np\n",
    "\n",
    "def generate_exponentials(var, order):\n",
    "    base_exp = [tuple(np.eye(var, dtype=int)[i]) for i in range(var)]\n",
    "    exp = set(base_exp + [tuple([0] * var)])\n",
    "\n",
    "    for i in range(order - 1): \n",
    "        # we already have the first order terms, so we only need to iterate this order - 1 times\n",
    "        new_exponents = set()\n",
    "        for e in exp:\n",
    "            # now, we are taking all different combinations of exponential that has an order of i + 1 \n",
    "            for j in base_exp:\n",
    "                new_exp = tuple(np.array(e) + np.array(j)) \n",
    "                # add two different exponent combinations together\n",
    "                new_exponents.add(new_exp)\n",
    "                # add this new exponent formed into the set new_exponents\n",
    "        exp.update(new_exponents) \n",
    "        # add the new_exponents to the set of exponentials\n",
    "    exp = sorted(exp)\n",
    "    exp = np.array([np.array(list(e), dtype = float) for e in exp])\n",
    "    return exp\n",
    "\n",
    "def generate_polynomials_centered_and_pos(var, order, fixed_point):\n",
    "    E = generate_exponentials(var, order)\n",
    "    # np.power(base, exponential)\n",
    "    basis_functions = lambda x: np.array([np.prod(np.power(x - fixed_point, E[k]), dtype=float)/(1.0**np.sum(E[k])) for k in range(len(E))])\n",
    "    return basis_functions\n",
    "\n",
    "def generate_polynomials(var, order):\n",
    "    E = generate_exponentials(var, order)\n",
    "    basis_functions = lambda x: np.array([np.prod(np.power(x, E[k]), dtype=float)/(1.0**np.sum(E[k])) for k in range(len(E))])\n",
    "    return basis_functions"
   ]
  }
 ],
 "metadata": {
  "kernelspec": {
   "display_name": "Python 3",
   "language": "python",
   "name": "python3"
  },
  "language_info": {
   "codemirror_mode": {
    "name": "ipython",
    "version": 3
   },
   "file_extension": ".py",
   "mimetype": "text/x-python",
   "name": "python",
   "nbconvert_exporter": "python",
   "pygments_lexer": "ipython3",
   "version": "3.12.8"
  }
 },
 "nbformat": 4,
 "nbformat_minor": 5
}
